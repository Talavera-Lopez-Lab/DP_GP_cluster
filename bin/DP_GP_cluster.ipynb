{
 "cells": [
  {
   "cell_type": "code",
   "execution_count": 1,
   "metadata": {},
   "outputs": [],
   "source": [
    "import matplotlib.pyplot as plt\n",
    "\n",
    "from DP_GP import plot\n",
    "from DP_GP import utils\n",
    "from DP_GP import core\n",
    "from DP_GP import cluster_tools\n",
    "\n",
    "import pandas as pd\n",
    "import numpy as np\n",
    "import numpy.linalg as nl\n",
    "import scipy\n",
    "import GPy\n",
    "\n",
    "# import standard library dependencies:\n",
    "import collections\n",
    "import time\n",
    "import copy\n",
    "import argparse\n",
    "import os"
   ]
  },
  {
   "cell_type": "markdown",
   "metadata": {},
   "source": [
    "## Input arguments"
   ]
  },
  {
   "cell_type": "code",
   "execution_count": 8,
   "metadata": {},
   "outputs": [],
   "source": [
    "# list of count matrice(s) filepath\n",
    "gene_expression_matrix = ['../../data/unstim_WT_counts_df.txt']\n",
    "# filepath to save the results\n",
    "output = \"./test\"\n",
    "\n",
    "## Optional sampling Arguments\n",
    "# Maximum number of Gibbs sampling iterations. default=1000\n",
    "max_num_iters = 1000\n",
    "# Take every sth sample during Gibbs iterations to ensure independence between samples. default=3\n",
    "thinning_param = 3\n",
    "# Specify the optimization technique used to update GP hyperparameters\n",
    "# lbfgsb = L-BFGS-B \n",
    "# fmin_tnc = truncated Newton algorithm \n",
    "# simplex = Nelder-Mead simplex \n",
    "# scg = stochastic conjugate gradient \n",
    "# default = 'lbfgsb'\n",
    "optimizer = 'lbfgsb'\n",
    "# default=1000\n",
    "max_iters = 1000\n",
    "\n"
   ]
  },
  {
   "cell_type": "code",
   "execution_count": 15,
   "metadata": {},
   "outputs": [],
   "source": [
    "##############################################################################\n",
    "#\n",
    "#  Optional hyperprior arguments\n",
    "#\n",
    "##############################################################################\n",
    "\n",
    "\n",
    "# sigma_n2_shape is shape parameter for the inverse gamma prior on the cluster noise variance. default=12\n",
    "sigma_n2_shape = 12\n",
    "# sigma_n2_rate is rate parameter for the inverse gamma prior on the cluster noise variance. default=2\n",
    "sigma_n2_rate = 2\n",
    "# for length scale [default=0]\n",
    "length_scale_mu = 0\n",
    "# for length scale [default=1]\n",
    "length_scale_sigma = 1\n",
    "# for signal variance [default=0]\n",
    "sigma_f_mu = 0\n",
    "# for signal variance [default=1]\n",
    "sigma_f_sigma = 1"
   ]
  },
  {
   "cell_type": "markdown",
   "metadata": {},
   "source": [
    "## Reading the count matrix"
   ]
  },
  {
   "cell_type": "code",
   "execution_count": 11,
   "metadata": {},
   "outputs": [],
   "source": [
    "## Optional input transformation arguments\n",
    "\n",
    "# Set this flag if the header contains true time values (e.g. 0, 0.5, 4, 8,...)\n",
    "# and it is desired that the covariance kernel recognizes the true\n",
    "# time spacing between sampling points, which need not be constant.\n",
    "# Otherwise, it is assumed that the sampling times are equally spaced, \n",
    "# or in other words, that the rate of change in expression is roughly equivalent\n",
    "# between all neighboring time points.\n",
    "# default=False\n",
    "true_times = False \n",
    "\n",
    "# Set this flag if you desire the gene expression data to be clustered\n",
    "# without scaling (do not divide by standard deviation).\n",
    "# default=False\n",
    "unscaled = False\n",
    "\n",
    "#Set this flag if you desire the gene expression data to be clustered\n",
    "#without mean-centering (do not subtract mean).\n",
    "#default=False\n",
    "do_not_mean_center = False"
   ]
  },
  {
   "cell_type": "code",
   "execution_count": 12,
   "metadata": {},
   "outputs": [],
   "source": [
    "gene_expression_matrix, gene_names, t, t_labels = \\\n",
    "core.read_gene_expression_matrices(gene_expression_matrix, \n",
    "                                   true_times, \n",
    "                                   unscaled, \n",
    "                                   do_not_mean_center)"
   ]
  },
  {
   "cell_type": "code",
   "execution_count": 17,
   "metadata": {},
   "outputs": [],
   "source": [
    "sigma_n2_shape, sigma_n2_rate = sigma_n2_shape, sigma_n2_rate\n",
    "sigma_n = np.sqrt(1 / ((sigma_n2_shape + 1) * sigma_n2_rate))"
   ]
  }
 ],
 "metadata": {
  "kernelspec": {
   "display_name": "DP_GP-env",
   "language": "python",
   "name": "python3"
  },
  "language_info": {
   "codemirror_mode": {
    "name": "ipython",
    "version": 3
   },
   "file_extension": ".py",
   "mimetype": "text/x-python",
   "name": "python",
   "nbconvert_exporter": "python",
   "pygments_lexer": "ipython3",
   "version": "3.10.13"
  }
 },
 "nbformat": 4,
 "nbformat_minor": 2
}
